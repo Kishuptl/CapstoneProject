{
 "cells": [
  {
   "cell_type": "markdown",
   "id": "ce3eb766",
   "metadata": {},
   "source": [
    "# Capstone Project Phase-1"
   ]
  },
  {
   "cell_type": "markdown",
   "id": "d97d905e",
   "metadata": {},
   "source": [
    "Here in this project we need to collect the data which is needed to complete this project."
   ]
  },
  {
   "cell_type": "markdown",
   "id": "367f828d",
   "metadata": {},
   "source": [
    "1. Population of each state."
   ]
  },
  {
   "cell_type": "markdown",
   "id": "f745b2f1",
   "metadata": {},
   "source": [
    "2. Literacy Rate of each state."
   ]
  },
  {
   "cell_type": "markdown",
   "id": "b1eaffa5",
   "metadata": {},
   "source": [
    "3. Area of each State."
   ]
  },
  {
   "cell_type": "markdown",
   "id": "c352822b",
   "metadata": {},
   "source": [
    "Capstone project is all about India and its population , crime , Literacy rate of all the states. In this project we need to find all the data and analysis it."
   ]
  },
  {
   "cell_type": "markdown",
   "id": "4adb3753",
   "metadata": {},
   "source": [
    "Here we need to collect all the above data and create file .There are some below link from where data is collected ."
   ]
  },
  {
   "cell_type": "markdown",
   "id": "28bcdbda",
   "metadata": {},
   "source": [
    "1. Link for population :::: https://pwonlyias.com/largest-states-of-india/"
   ]
  },
  {
   "cell_type": "markdown",
   "id": "0761d499",
   "metadata": {},
   "source": [
    "2. Link for Literacy :: https://www.findeasy.in/indian-states-by-literacy-rate/"
   ]
  },
  {
   "cell_type": "markdown",
   "id": "fd63450c",
   "metadata": {},
   "source": [
    "3. Link for area of state ::: https://pwonlyias.com/largest-states-of-india/"
   ]
  },
  {
   "cell_type": "markdown",
   "id": "b955a1dc",
   "metadata": {},
   "source": [
    "Here is the below table for phase-1."
   ]
  },
  {
   "cell_type": "code",
   "execution_count": 1,
   "id": "fba48d5d",
   "metadata": {},
   "outputs": [],
   "source": [
    "import pandas as pd"
   ]
  },
  {
   "cell_type": "code",
   "execution_count": 8,
   "id": "f238dc9e",
   "metadata": {},
   "outputs": [
    {
     "data": {
      "text/html": [
       "<div>\n",
       "<style scoped>\n",
       "    .dataframe tbody tr th:only-of-type {\n",
       "        vertical-align: middle;\n",
       "    }\n",
       "\n",
       "    .dataframe tbody tr th {\n",
       "        vertical-align: top;\n",
       "    }\n",
       "\n",
       "    .dataframe thead th {\n",
       "        text-align: right;\n",
       "    }\n",
       "</style>\n",
       "<table border=\"1\" class=\"dataframe\">\n",
       "  <thead>\n",
       "    <tr style=\"text-align: right;\">\n",
       "      <th></th>\n",
       "      <th>S.No</th>\n",
       "      <th>Name</th>\n",
       "      <th>Population</th>\n",
       "      <th>Literacy Rate</th>\n",
       "      <th>Area of Each State</th>\n",
       "    </tr>\n",
       "  </thead>\n",
       "  <tbody>\n",
       "    <tr>\n",
       "      <th>0</th>\n",
       "      <td>1</td>\n",
       "      <td>Andhra Pradesh</td>\n",
       "      <td>84,580,777</td>\n",
       "      <td>66.40</td>\n",
       "      <td>162,968</td>\n",
       "    </tr>\n",
       "    <tr>\n",
       "      <th>1</th>\n",
       "      <td>2</td>\n",
       "      <td>Arunachal Pradesh</td>\n",
       "      <td>1,458,545</td>\n",
       "      <td>66.95</td>\n",
       "      <td>83,743</td>\n",
       "    </tr>\n",
       "    <tr>\n",
       "      <th>2</th>\n",
       "      <td>3</td>\n",
       "      <td>Assam</td>\n",
       "      <td>31,205,576</td>\n",
       "      <td>85.90</td>\n",
       "      <td>78,438</td>\n",
       "    </tr>\n",
       "    <tr>\n",
       "      <th>3</th>\n",
       "      <td>4</td>\n",
       "      <td>Bihar</td>\n",
       "      <td>104,099,452</td>\n",
       "      <td>70.90</td>\n",
       "      <td>94,163</td>\n",
       "    </tr>\n",
       "    <tr>\n",
       "      <th>4</th>\n",
       "      <td>5</td>\n",
       "      <td>Chhattisgarh</td>\n",
       "      <td>25,351,462</td>\n",
       "      <td>77.30</td>\n",
       "      <td>135,191</td>\n",
       "    </tr>\n",
       "    <tr>\n",
       "      <th>5</th>\n",
       "      <td>6</td>\n",
       "      <td>Goa</td>\n",
       "      <td>1,458,502</td>\n",
       "      <td>87.40</td>\n",
       "      <td>3,702</td>\n",
       "    </tr>\n",
       "    <tr>\n",
       "      <th>6</th>\n",
       "      <td>7</td>\n",
       "      <td>Gujarat</td>\n",
       "      <td>60,439,692</td>\n",
       "      <td>82.40</td>\n",
       "      <td>196,024</td>\n",
       "    </tr>\n",
       "    <tr>\n",
       "      <th>7</th>\n",
       "      <td>8</td>\n",
       "      <td>Haryana</td>\n",
       "      <td>25,545,198</td>\n",
       "      <td>80.40</td>\n",
       "      <td>44,212</td>\n",
       "    </tr>\n",
       "    <tr>\n",
       "      <th>8</th>\n",
       "      <td>9</td>\n",
       "      <td>Himachal Pradesh</td>\n",
       "      <td>6,864,602</td>\n",
       "      <td>86.60</td>\n",
       "      <td>55,673</td>\n",
       "    </tr>\n",
       "    <tr>\n",
       "      <th>9</th>\n",
       "      <td>10</td>\n",
       "      <td>Jharkhand</td>\n",
       "      <td>32,988,134</td>\n",
       "      <td>74.30</td>\n",
       "      <td>79,714</td>\n",
       "    </tr>\n",
       "    <tr>\n",
       "      <th>10</th>\n",
       "      <td>11</td>\n",
       "      <td>Karnataka</td>\n",
       "      <td>61,095,297</td>\n",
       "      <td>77.20</td>\n",
       "      <td>191,791</td>\n",
       "    </tr>\n",
       "    <tr>\n",
       "      <th>11</th>\n",
       "      <td>12</td>\n",
       "      <td>Kerala</td>\n",
       "      <td>33,406,061</td>\n",
       "      <td>96.20</td>\n",
       "      <td>38,963</td>\n",
       "    </tr>\n",
       "    <tr>\n",
       "      <th>12</th>\n",
       "      <td>13</td>\n",
       "      <td>Madhya Pradesh</td>\n",
       "      <td>72,626,809</td>\n",
       "      <td>73.70</td>\n",
       "      <td>308,245</td>\n",
       "    </tr>\n",
       "    <tr>\n",
       "      <th>13</th>\n",
       "      <td>14</td>\n",
       "      <td>Maharashtra</td>\n",
       "      <td>112,372,333</td>\n",
       "      <td>84.80</td>\n",
       "      <td>307,713</td>\n",
       "    </tr>\n",
       "    <tr>\n",
       "      <th>14</th>\n",
       "      <td>15</td>\n",
       "      <td>Manipur</td>\n",
       "      <td>2,855,794</td>\n",
       "      <td>79.85</td>\n",
       "      <td>22,327</td>\n",
       "    </tr>\n",
       "    <tr>\n",
       "      <th>15</th>\n",
       "      <td>16</td>\n",
       "      <td>Meghalaya</td>\n",
       "      <td>2,966,889</td>\n",
       "      <td>75.48</td>\n",
       "      <td>22,429</td>\n",
       "    </tr>\n",
       "    <tr>\n",
       "      <th>16</th>\n",
       "      <td>17</td>\n",
       "      <td>Mizoram</td>\n",
       "      <td>1,097,206</td>\n",
       "      <td>91.58</td>\n",
       "      <td>21,081</td>\n",
       "    </tr>\n",
       "    <tr>\n",
       "      <th>17</th>\n",
       "      <td>18</td>\n",
       "      <td>Nagaland</td>\n",
       "      <td>1,978,502</td>\n",
       "      <td>80.11</td>\n",
       "      <td>16,579</td>\n",
       "    </tr>\n",
       "    <tr>\n",
       "      <th>18</th>\n",
       "      <td>19</td>\n",
       "      <td>Odisha</td>\n",
       "      <td>41,974,218</td>\n",
       "      <td>77.30</td>\n",
       "      <td>155,707</td>\n",
       "    </tr>\n",
       "    <tr>\n",
       "      <th>19</th>\n",
       "      <td>20</td>\n",
       "      <td>Punjab</td>\n",
       "      <td>27,743,338</td>\n",
       "      <td>83.70</td>\n",
       "      <td>50,362</td>\n",
       "    </tr>\n",
       "    <tr>\n",
       "      <th>20</th>\n",
       "      <td>21</td>\n",
       "      <td>Rajasthan</td>\n",
       "      <td>68,548,437</td>\n",
       "      <td>69.70</td>\n",
       "      <td>342,239</td>\n",
       "    </tr>\n",
       "    <tr>\n",
       "      <th>21</th>\n",
       "      <td>22</td>\n",
       "      <td>Sikkim</td>\n",
       "      <td>610,577</td>\n",
       "      <td>82.20</td>\n",
       "      <td>7,096</td>\n",
       "    </tr>\n",
       "    <tr>\n",
       "      <th>22</th>\n",
       "      <td>23</td>\n",
       "      <td>Tamil Nadu</td>\n",
       "      <td>72,147,030</td>\n",
       "      <td>82.90</td>\n",
       "      <td>130,058</td>\n",
       "    </tr>\n",
       "    <tr>\n",
       "      <th>23</th>\n",
       "      <td>24</td>\n",
       "      <td>Telangana</td>\n",
       "      <td>35,198,978</td>\n",
       "      <td>72.80</td>\n",
       "      <td>112,077</td>\n",
       "    </tr>\n",
       "    <tr>\n",
       "      <th>24</th>\n",
       "      <td>25</td>\n",
       "      <td>Tripura</td>\n",
       "      <td>3,673,917</td>\n",
       "      <td>87.75</td>\n",
       "      <td>10,486</td>\n",
       "    </tr>\n",
       "    <tr>\n",
       "      <th>25</th>\n",
       "      <td>26</td>\n",
       "      <td>Uttar Pradesh</td>\n",
       "      <td>199,812,341</td>\n",
       "      <td>73.00</td>\n",
       "      <td>240,928</td>\n",
       "    </tr>\n",
       "    <tr>\n",
       "      <th>26</th>\n",
       "      <td>27</td>\n",
       "      <td>Uttarakhand</td>\n",
       "      <td>10,086,292</td>\n",
       "      <td>87.60</td>\n",
       "      <td>53,483</td>\n",
       "    </tr>\n",
       "    <tr>\n",
       "      <th>27</th>\n",
       "      <td>28</td>\n",
       "      <td>West Bengal</td>\n",
       "      <td>91,276,115</td>\n",
       "      <td>80.50</td>\n",
       "      <td>88,752</td>\n",
       "    </tr>\n",
       "  </tbody>\n",
       "</table>\n",
       "</div>"
      ],
      "text/plain": [
       "    S.No               Name   Population  Literacy Rate Area of Each State\n",
       "0      1     Andhra Pradesh   84,580,777          66.40            162,968\n",
       "1      2  Arunachal Pradesh    1,458,545          66.95             83,743\n",
       "2      3              Assam   31,205,576          85.90             78,438\n",
       "3      4              Bihar  104,099,452          70.90             94,163\n",
       "4      5       Chhattisgarh   25,351,462          77.30            135,191\n",
       "5      6                Goa    1,458,502          87.40              3,702\n",
       "6      7            Gujarat   60,439,692          82.40            196,024\n",
       "7      8            Haryana   25,545,198          80.40             44,212\n",
       "8      9   Himachal Pradesh    6,864,602          86.60             55,673\n",
       "9     10          Jharkhand   32,988,134          74.30             79,714\n",
       "10    11          Karnataka   61,095,297          77.20            191,791\n",
       "11    12             Kerala   33,406,061          96.20             38,963\n",
       "12    13     Madhya Pradesh   72,626,809          73.70            308,245\n",
       "13    14        Maharashtra  112,372,333          84.80            307,713\n",
       "14    15            Manipur    2,855,794          79.85             22,327\n",
       "15    16          Meghalaya    2,966,889          75.48             22,429\n",
       "16    17            Mizoram    1,097,206          91.58             21,081\n",
       "17    18           Nagaland    1,978,502          80.11             16,579\n",
       "18    19             Odisha   41,974,218          77.30            155,707\n",
       "19    20             Punjab   27,743,338          83.70             50,362\n",
       "20    21          Rajasthan   68,548,437          69.70            342,239\n",
       "21    22             Sikkim      610,577          82.20              7,096\n",
       "22    23         Tamil Nadu   72,147,030          82.90            130,058\n",
       "23    24          Telangana   35,198,978          72.80            112,077\n",
       "24    25            Tripura    3,673,917          87.75             10,486\n",
       "25    26      Uttar Pradesh  199,812,341          73.00            240,928\n",
       "26    27        Uttarakhand   10,086,292          87.60             53,483\n",
       "27    28        West Bengal   91,276,115          80.50             88,752"
      ]
     },
     "execution_count": 8,
     "metadata": {},
     "output_type": "execute_result"
    }
   ],
   "source": [
    "sttble = pd.read_csv('statepopulation.csv')\n",
    "sttble"
   ]
  },
  {
   "cell_type": "code",
   "execution_count": 10,
   "id": "46801d0b",
   "metadata": {},
   "outputs": [
    {
     "data": {
      "text/html": [
       "<div>\n",
       "<style scoped>\n",
       "    .dataframe tbody tr th:only-of-type {\n",
       "        vertical-align: middle;\n",
       "    }\n",
       "\n",
       "    .dataframe tbody tr th {\n",
       "        vertical-align: top;\n",
       "    }\n",
       "\n",
       "    .dataframe thead th {\n",
       "        text-align: right;\n",
       "    }\n",
       "</style>\n",
       "<table border=\"1\" class=\"dataframe\">\n",
       "  <thead>\n",
       "    <tr style=\"text-align: right;\">\n",
       "      <th></th>\n",
       "      <th>S.No</th>\n",
       "      <th>Name</th>\n",
       "      <th>Population</th>\n",
       "      <th>Literacy Rate</th>\n",
       "      <th>Area of Each State</th>\n",
       "    </tr>\n",
       "  </thead>\n",
       "  <tbody>\n",
       "    <tr>\n",
       "      <th>0</th>\n",
       "      <td>1</td>\n",
       "      <td>Jammu and Kashmir</td>\n",
       "      <td>12,267,013</td>\n",
       "      <td>77.30</td>\n",
       "      <td>125,535</td>\n",
       "    </tr>\n",
       "    <tr>\n",
       "      <th>1</th>\n",
       "      <td>2</td>\n",
       "      <td>Ladakh</td>\n",
       "      <td>274,289</td>\n",
       "      <td>90.29</td>\n",
       "      <td>96,701</td>\n",
       "    </tr>\n",
       "    <tr>\n",
       "      <th>2</th>\n",
       "      <td>3</td>\n",
       "      <td>Andaman and Nicobar Islands</td>\n",
       "      <td>380,581</td>\n",
       "      <td>86.63</td>\n",
       "      <td>8,249</td>\n",
       "    </tr>\n",
       "    <tr>\n",
       "      <th>3</th>\n",
       "      <td>4</td>\n",
       "      <td>Delhi</td>\n",
       "      <td>16,787,941</td>\n",
       "      <td>88.70</td>\n",
       "      <td>1,484</td>\n",
       "    </tr>\n",
       "    <tr>\n",
       "      <th>4</th>\n",
       "      <td>5</td>\n",
       "      <td>Daman and Diu</td>\n",
       "      <td>5,86,956</td>\n",
       "      <td>87.07</td>\n",
       "      <td>603</td>\n",
       "    </tr>\n",
       "    <tr>\n",
       "      <th>5</th>\n",
       "      <td>6</td>\n",
       "      <td>Puducherry</td>\n",
       "      <td>1,247,953</td>\n",
       "      <td>86.55</td>\n",
       "      <td>479</td>\n",
       "    </tr>\n",
       "    <tr>\n",
       "      <th>6</th>\n",
       "      <td>7</td>\n",
       "      <td>Chandigarh</td>\n",
       "      <td>1,055,450</td>\n",
       "      <td>86.43</td>\n",
       "      <td>114</td>\n",
       "    </tr>\n",
       "    <tr>\n",
       "      <th>7</th>\n",
       "      <td>8</td>\n",
       "      <td>Lakshadweep</td>\n",
       "      <td>64,473</td>\n",
       "      <td>91.85</td>\n",
       "      <td>32.62</td>\n",
       "    </tr>\n",
       "  </tbody>\n",
       "</table>\n",
       "</div>"
      ],
      "text/plain": [
       "   S.No                         Name  Population  Literacy Rate  \\\n",
       "0     1            Jammu and Kashmir  12,267,013          77.30   \n",
       "1     2                       Ladakh     274,289          90.29   \n",
       "2     3  Andaman and Nicobar Islands     380,581          86.63   \n",
       "3     4                        Delhi  16,787,941          88.70   \n",
       "4     5                Daman and Diu    5,86,956          87.07   \n",
       "5     6                   Puducherry   1,247,953          86.55   \n",
       "6     7                   Chandigarh   1,055,450          86.43   \n",
       "7     8                  Lakshadweep      64,473          91.85   \n",
       "\n",
       "  Area of Each State  \n",
       "0            125,535  \n",
       "1             96,701  \n",
       "2              8,249  \n",
       "3              1,484  \n",
       "4                603  \n",
       "5                479  \n",
       "6                114  \n",
       "7              32.62  "
      ]
     },
     "execution_count": 10,
     "metadata": {},
     "output_type": "execute_result"
    }
   ],
   "source": [
    "uttble = pd.read_csv('UTpopulation.csv')\n",
    "uttble"
   ]
  },
  {
   "cell_type": "markdown",
   "id": "c157dd55",
   "metadata": {},
   "source": [
    "As per above we have 2 table for statewise and another for Union Territiors."
   ]
  },
  {
   "cell_type": "markdown",
   "id": "ddba6b2a",
   "metadata": {},
   "source": [
    "The above table contain 3 columns in first phase Population , Literacy Rate , Area of Each State."
   ]
  },
  {
   "cell_type": "markdown",
   "id": "182a16ad",
   "metadata": {},
   "source": [
    "# Observation Report "
   ]
  },
  {
   "cell_type": "markdown",
   "id": "0e7be755",
   "metadata": {},
   "source": [
    "In this phase we have created dataset of India which contain State/ UT name , population , Literacy Rate , Area of each state."
   ]
  },
  {
   "cell_type": "markdown",
   "id": "90fe5aa2",
   "metadata": {},
   "source": [
    "As per above observation we can see that out of all the states Uttar Pradesh is highest in Population ."
   ]
  },
  {
   "cell_type": "markdown",
   "id": "9c78e428",
   "metadata": {},
   "source": [
    "Kerela is highest in Literacy Rate ."
   ]
  },
  {
   "cell_type": "markdown",
   "id": "664d0aa9",
   "metadata": {},
   "source": [
    "Area of State is higher for Rajasthan."
   ]
  },
  {
   "cell_type": "markdown",
   "id": "96900a65",
   "metadata": {},
   "source": [
    "In Union Teritories ::"
   ]
  },
  {
   "cell_type": "markdown",
   "id": "8dc96a7a",
   "metadata": {},
   "source": [
    "Delhi is highest in population."
   ]
  },
  {
   "cell_type": "markdown",
   "id": "a5959043",
   "metadata": {},
   "source": [
    "Lakshadweep is highest in Literacy Rate ."
   ]
  },
  {
   "cell_type": "markdown",
   "id": "deb6dcce",
   "metadata": {},
   "source": [
    "Jammu and Kashmir is highest in State Area."
   ]
  },
  {
   "cell_type": "markdown",
   "id": "21629ebc",
   "metadata": {},
   "source": [
    "I have mentioned the links above from where data is collect and used ."
   ]
  },
  {
   "cell_type": "code",
   "execution_count": null,
   "id": "52286d93",
   "metadata": {},
   "outputs": [],
   "source": []
  }
 ],
 "metadata": {
  "kernelspec": {
   "display_name": "Python 3 (ipykernel)",
   "language": "python",
   "name": "python3"
  },
  "language_info": {
   "codemirror_mode": {
    "name": "ipython",
    "version": 3
   },
   "file_extension": ".py",
   "mimetype": "text/x-python",
   "name": "python",
   "nbconvert_exporter": "python",
   "pygments_lexer": "ipython3",
   "version": "3.9.13"
  }
 },
 "nbformat": 4,
 "nbformat_minor": 5
}
